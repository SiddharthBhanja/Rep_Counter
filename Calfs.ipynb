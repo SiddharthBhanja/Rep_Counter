{
 "cells": [
  {
   "cell_type": "code",
   "execution_count": 1,
   "id": "6d5550e8",
   "metadata": {},
   "outputs": [
    {
     "name": "stdout",
     "output_type": "stream",
     "text": [
      "Calf_Raises_segment_5_start_09m01s870ms_pose.json: 19 reps\n"
     ]
    }
   ],
   "source": [
    "import json\n",
    "import os\n",
    "import numpy as np\n",
    "import pandas as pd\n",
    "import matplotlib.pyplot as plt\n",
    "from scipy.signal import find_peaks\n",
    "from scipy.ndimage import gaussian_filter1d\n",
    "\n",
    "def count_reps_from_json(json_frames, save_dir, json_name):\n",
    "    y_values = []\n",
    "\n",
    "    for frame_data in json_frames:\n",
    "        landmarks = frame_data[\"landmarks\"]\n",
    "        \n",
    "        # Extract left and right ankle y-coordinates from landmarks\n",
    "        left_ankle = next((lm for lm in landmarks if lm[\"name\"] == \"left_ankle\"), None)\n",
    "        right_ankle = next((lm for lm in landmarks if lm[\"name\"] == \"right_ankle\"), None)\n",
    "\n",
    "        if left_ankle and right_ankle:\n",
    "            # Use normalized y values (assuming y is normalized 0-1 or pixel coords - adapt if needed)\n",
    "            left_ankle_y = left_ankle[\"y\"]\n",
    "            right_ankle_y = right_ankle[\"y\"]\n",
    "            avg_y = (left_ankle_y + right_ankle_y) / 2\n",
    "            y_values.append(avg_y)\n",
    "\n",
    "    y_values = np.array(y_values)\n",
    "    y_inverted = 1 - y_values  # Invert for peak detection\n",
    "    smoothed = gaussian_filter1d(y_inverted, sigma=3)\n",
    "\n",
    "    peaks, _ = find_peaks(smoothed, distance=10)\n",
    "    rep_count = len(peaks)\n",
    "    print(f\"{json_name}: {rep_count} reps\")\n",
    "\n",
    "    plt.figure(figsize=(10, 4))\n",
    "    plt.plot(smoothed, label=\"Smoothed Ankle Y\")\n",
    "    plt.plot(peaks, smoothed[peaks], \"ro\", label=\"Reps\")\n",
    "    plt.title(f\"Calf Raises Rep Count: {rep_count}\")\n",
    "    plt.xlabel(\"Frame\")\n",
    "    plt.ylabel(\"Inverted Y\")\n",
    "    plt.legend()\n",
    "    plt.tight_layout()\n",
    "\n",
    "    plot_path = os.path.join(save_dir, json_name.replace('.json', '_plot.png'))\n",
    "    plt.savefig(plot_path)\n",
    "    plt.close()\n",
    "\n",
    "    return rep_count\n",
    "\n",
    "# --- Example usage ---\n",
    "input_folder = r\"C:\\Users\\bdsid\\OneDrive\\Desktop\\Dune Tech\\Rep Counting\\Data\\Test_Bhaskar_Sir\\calf_raises\\Json\"\n",
    "output_folder = r\"C:\\Users\\bdsid\\OneDrive\\Desktop\\Dune Tech\\Rep Counting\\Data\\Test_Bhaskar_Sir\\calf_raises\\Json\"\n",
    "os.makedirs(output_folder, exist_ok=True)\n",
    "\n",
    "results = []\n",
    "for file in os.listdir(input_folder):\n",
    "    if file.endswith(\".json\"):\n",
    "        with open(os.path.join(input_folder, file), 'r') as f:\n",
    "            json_frames = json.load(f)\n",
    "        reps = count_reps_from_json(json_frames, output_folder, file)\n",
    "        results.append({\"file\": file, \"reps\": reps})\n",
    "\n",
    "pd.DataFrame(results).to_csv(os.path.join(output_folder, \"calf_rep_counts.csv\"), index=False)\n"
   ]
  }
 ],
 "metadata": {
  "kernelspec": {
   "display_name": "Python (venv310)",
   "language": "python",
   "name": "venv310"
  },
  "language_info": {
   "codemirror_mode": {
    "name": "ipython",
    "version": 3
   },
   "file_extension": ".py",
   "mimetype": "text/x-python",
   "name": "python",
   "nbconvert_exporter": "python",
   "pygments_lexer": "ipython3",
   "version": "3.10.9"
  }
 },
 "nbformat": 4,
 "nbformat_minor": 5
}
